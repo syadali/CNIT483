{
  "nbformat": 4,
  "nbformat_minor": 0,
  "metadata": {
    "colab": {
      "provenance": [],
      "include_colab_link": true
    },
    "kernelspec": {
      "name": "python3",
      "display_name": "Python 3"
    }
  },
  "cells": [
    {
      "cell_type": "markdown",
      "metadata": {
        "id": "view-in-github",
        "colab_type": "text"
      },
      "source": [
        "<a href=\"https://colab.research.google.com/github/syadali/CNIT483/blob/main/HW_1.ipynb\" target=\"_parent\"><img src=\"https://colab.research.google.com/assets/colab-badge.svg\" alt=\"Open In Colab\"/></a>"
      ]
    },
    {
      "cell_type": "markdown",
      "metadata": {
        "id": "V5tMQXjYYa0j"
      },
      "source": [
        "# **Homework 1**\n",
        "\n",
        "Due by **September 26, 2024**\n"
      ]
    },
    {
      "cell_type": "markdown",
      "source": [
        "**Question 1**: Please design a linear regression algorithm to obtain the optimal value of $w_0$ and $w_1$ for the given data in Data_HW1_1.csv by assuming the outputs and the data samples provided in the following satisfy $y=w_0+w_1\\times x +\\varepsilon$, where $\\varepsilon$ is measurement noise.\n",
        "\n",
        "*   Please provide the code, optimal values of $w_0$, $w_1$, training error, and testing error."
      ],
      "metadata": {
        "id": "XeTlSZ0YVZPQ"
      }
    },
    {
      "cell_type": "code",
      "source": [
        "# import python libs\n",
        "import tensorflow as tf\n",
        "import numpy as np\n",
        "import pandas as pd\n",
        "import matplotlib\n",
        "import matplotlib.pyplot as plt\n",
        "from tensorflow.keras import layers, models, optimizers\n",
        "from sklearn.model_selection import train_test_split\n",
        "from sklearn.metrics import mean_squared_error\n",
        "\n",
        "# 1) Obtain data Samples\n",
        "data = pd.read_csv('/content/sample_data/Data_HW1_1.csv')\n",
        "X = data['x'].values\n",
        "y = data['y'].values\n",
        "\n",
        "# 2) Split data into training and testing sets\n",
        "X_train, X_test, y_train, y_test = train_test_split(X, y, test_size=0.3)\n",
        "\n",
        "# 3) Add the bias\n",
        "X_train_b = np.c_[np.ones((X_train.shape[0], 1)), X_train]  # Adding bias train\n",
        "X_test_b = np.c_[np.ones((X_test.shape[0], 1)), X_test]     # Adding bias test\n",
        "\n",
        "# 4) Compute w0 and w1\n",
        "optimal = np.linalg.inv(X_train_b.T.dot(X_train_b)).dot(X_train_b.T).dot(y_train)\n",
        "w0_optimal, w1_optimal = optimal\n",
        "\n",
        "# 5) Predict\n",
        "y_train_p = X_train_b.dot(optimal)\n",
        "y_test_p = X_test_b.dot(optimal)\n",
        "\n",
        "# 6) Calculate training and testing errors (MSE)\n",
        "train_error = mean_squared_error(y_train, y_train_p)\n",
        "test_error = mean_squared_error(y_test, y_test_p)\n",
        "\n",
        "# Output results\n",
        "print(f\"Optimal w0: {w0_optimal}\")\n",
        "print(f\"Optimal w1: {w1_optimal}\")\n",
        "print(f\"Training error (MSE): {train_error}\")\n",
        "print(f\"Testing error (MSE): {test_error}\")"
      ],
      "metadata": {
        "colab": {
          "base_uri": "https://localhost:8080/"
        },
        "id": "u6gq3akw9Np7",
        "outputId": "79b07ba5-4a65-4cb8-bf72-33fada48e2b7"
      },
      "execution_count": 5,
      "outputs": [
        {
          "output_type": "stream",
          "name": "stdout",
          "text": [
            "Optimal w0: -5.9994807628731\n",
            "Optimal w1: 2.0048184946512353\n",
            "Training error (MSE): 0.0024939108468829485\n",
            "Testing error (MSE): 0.0023390270137408032\n"
          ]
        }
      ]
    },
    {
      "cell_type": "markdown",
      "metadata": {
        "id": "L09pm0p7Plf3"
      },
      "source": [
        "**Question 2**: Please design a linear regression algorithm to obtain the optimal value of $w_0$, $w_1$, $w_2$, and $w_3$ for the given data in Data_HW1_2.csv by assuming the outputs and the data samples provided in the following satisfy $y=w_0+w_1\\times x +w_2\\times x^2+w_3\\times x^3+\\varepsilon$, where $\\varepsilon$ is measurement noise.\n",
        "\n",
        "*   Please provide the code, optimal values of $w_0$, $w_1$, $w_2$, $w_3$, training error, and testing error."
      ]
    },
    {
      "cell_type": "code",
      "source": [
        "# import python libs\n",
        "import tensorflow as tf\n",
        "import numpy as np\n",
        "import pandas as pd\n",
        "import matplotlib\n",
        "import matplotlib.pyplot as plt\n",
        "from tensorflow.keras import layers, models, optimizers\n",
        "from sklearn.model_selection import train_test_split\n",
        "from sklearn.metrics import mean_squared_error\n",
        "\n",
        "# 1) Obtain data Samples\n",
        "data = pd.read_csv('/content/sample_data/Data_HW1_2.csv')\n",
        "X = data['x'].values\n",
        "y = data['y'].values\n",
        "\n",
        "# 2) Add polynomials\n",
        "X_p = np.c_[X, X**2, X**3]\n",
        "\n",
        "# 3) Split data into training and testing sets\n",
        "X_train, X_test, y_train, y_test = train_test_split(X_p, y, test_size=0.3)\n",
        "\n",
        "# 4) Add the bias\n",
        "X_train_b = np.c_[np.ones((X_train.shape[0], 1)), X_train]  # Adding bias train\n",
        "X_test_b = np.c_[np.ones((X_test.shape[0], 1)), X_test]     # Adding bias test\n",
        "\n",
        "# 5) Compute w0, w1, w2, and w3\n",
        "optimal = np.linalg.inv(X_train_b.T.dot(X_train_b)).dot(X_train_b.T).dot(y_train)\n",
        "w0_optimal, w1_optimal, w2_optimal, w3_optimal = optimal\n",
        "\n",
        "# 6) Predictions\n",
        "y_train_p = X_train_b.dot(optimal)\n",
        "y_test_p = X_test_b.dot(optimal)\n",
        "\n",
        "# 7) Calculate training and testing errors (MSE)\n",
        "train_error = mean_squared_error(y_train, y_train_p)\n",
        "test_error = mean_squared_error(y_test, y_test_p)\n",
        "\n",
        "# Output results\n",
        "print(f\"Optimal w0: {w0_optimal}\")\n",
        "print(f\"Optimal w1: {w1_optimal}\")\n",
        "print(f\"Optimal w2: {w2_optimal}\")\n",
        "print(f\"Optimal w3: {w3_optimal}\")\n",
        "print(f\"Training error (MSE): {train_error}\")\n",
        "print(f\"Testing error (MSE): {test_error}\")"
      ],
      "metadata": {
        "colab": {
          "base_uri": "https://localhost:8080/"
        },
        "id": "__suyrymy3v3",
        "outputId": "1f6cbcc5-25fe-41dc-a472-25a164554166"
      },
      "execution_count": 6,
      "outputs": [
        {
          "output_type": "stream",
          "name": "stdout",
          "text": [
            "Optimal w0: -2.9759782510058606\n",
            "Optimal w1: 1.9978939365551442\n",
            "Optimal w2: 5.001447746043267\n",
            "Optimal w3: 7.999768720549883\n",
            "Training error (MSE): 0.00018807731199526739\n",
            "Testing error (MSE): 0.00024694416949204385\n"
          ]
        }
      ]
    }
  ]
}