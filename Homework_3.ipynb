{
  "nbformat": 4,
  "nbformat_minor": 0,
  "metadata": {
    "colab": {
      "provenance": [],
      "include_colab_link": true
    },
    "kernelspec": {
      "name": "python3",
      "display_name": "Python 3"
    },
    "accelerator": "GPU"
  },
  "cells": [
    {
      "cell_type": "markdown",
      "metadata": {
        "id": "view-in-github",
        "colab_type": "text"
      },
      "source": [
        "<a href=\"https://colab.research.google.com/github/syadali/CNIT483/blob/main/Homework_3.ipynb\" target=\"_parent\"><img src=\"https://colab.research.google.com/assets/colab-badge.svg\" alt=\"Open In Colab\"/></a>"
      ]
    },
    {
      "cell_type": "markdown",
      "metadata": {
        "id": "5kJy2ESvii8T"
      },
      "source": [
        "# **Homework 3**\n",
        "\n",
        "Due by **November 1st, 2024**."
      ]
    },
    {
      "cell_type": "markdown",
      "source": [
        "In this problem, we will focus on completing an image identification task for Fashion MNIST dataset. In this problem, you are asked to design a fully-connected neural network (FCNN) for this task. You will have the full freedom to design the structures of your FCNN.\n",
        "\n",
        "Requirments:\n",
        "*   You need to include the following three components in your lab report: (1) the structure of your FCNN (i.e. how many hidden layers, how many nodes in each layer, what activation function used for each hidden layer and output layer), (2) the codes, (3) the obtained training accuracy, and (4) the obtained testing accuracy.\n",
        "\n",
        "(Note: the FCNN model is considered to have a reasonable performance if it can achieve a training/testing accuracy above $80\\%$.)"
      ],
      "metadata": {
        "id": "NhgxwsNZe2be"
      }
    },
    {
      "cell_type": "code",
      "source": [
        "# import python libs\n",
        "import tensorflow as tf\n",
        "from tensorflow.keras import datasets, layers, models, optimizers\n",
        "from tensorflow.keras.utils import to_categorical\n",
        "import pandas as pd\n",
        "import numpy as np\n",
        "\n",
        "# Hint: Download MNIST fashion dataset\n",
        "(x_train, y_train), (x_test, y_test) = datasets.fashion_mnist.load_data()\n",
        "x_train, x_test = x_train / 255.0, x_test / 255.0  # Normalize\n",
        "\n",
        "# Flatten images into vectors\n",
        "x_train = x_train.reshape(-1, 28*28)\n",
        "x_test = x_test.reshape(-1, 28*28)\n",
        "\n",
        "# Define the structure of the fully-connected neural network (FCNN)\n",
        "model = models.Sequential()\n",
        "\n",
        "# Input layer and first hidden layer with 128 nodes and ReLU activation\n",
        "model.add(layers.InputLayer(input_shape=(28*28,)))\n",
        "model.add(layers.Dense(128, activation='relu'))\n",
        "\n",
        "# Second hidden layer with 64 nodes and ReLU activation\n",
        "model.add(layers.Dense(64, activation='relu'))\n",
        "\n",
        "# Third hidden layer with 32 nodes and ReLU activation\n",
        "model.add(layers.Dense(32, activation='relu'))\n",
        "\n",
        "# Output layer with 10 nodes (for 10 classes) and softmax activation\n",
        "model.add(layers.Dense(10, activation='softmax'))\n",
        "\n",
        "# Compile the model\n",
        "model.compile(optimizer='adam', loss='sparse_categorical_crossentropy', metrics=['accuracy'])\n",
        "\n",
        "# Train the model\n",
        "history = model.fit(x_train, y_train, epochs=10, batch_size=32, validation_data=(x_test, y_test), verbose=1)\n",
        "\n",
        "# Evaluate the model on training and testing sets\n",
        "train_loss, train_accuracy = model.evaluate(x_train, y_train, verbose=0)\n",
        "test_loss, test_accuracy = model.evaluate(x_test, y_test, verbose=0)\n",
        "\n",
        "# Print the results\n",
        "print(f'Obtained Training Accuracy: {train_accuracy * 100:.2f}%')\n",
        "print(f'Obtained Testing Accuracy: {test_accuracy * 100:.2f}%')\n"
      ],
      "metadata": {
        "id": "NKH1B94cieTE",
        "colab": {
          "base_uri": "https://localhost:8080/"
        },
        "outputId": "6f902139-6371-4d99-cd56-29204647803c"
      },
      "execution_count": 1,
      "outputs": [
        {
          "output_type": "stream",
          "name": "stdout",
          "text": [
            "Downloading data from https://storage.googleapis.com/tensorflow/tf-keras-datasets/train-labels-idx1-ubyte.gz\n",
            "\u001b[1m29515/29515\u001b[0m \u001b[32m━━━━━━━━━━━━━━━━━━━━\u001b[0m\u001b[37m\u001b[0m \u001b[1m0s\u001b[0m 0us/step\n",
            "Downloading data from https://storage.googleapis.com/tensorflow/tf-keras-datasets/train-images-idx3-ubyte.gz\n",
            "\u001b[1m26421880/26421880\u001b[0m \u001b[32m━━━━━━━━━━━━━━━━━━━━\u001b[0m\u001b[37m\u001b[0m \u001b[1m0s\u001b[0m 0us/step\n",
            "Downloading data from https://storage.googleapis.com/tensorflow/tf-keras-datasets/t10k-labels-idx1-ubyte.gz\n",
            "\u001b[1m5148/5148\u001b[0m \u001b[32m━━━━━━━━━━━━━━━━━━━━\u001b[0m\u001b[37m\u001b[0m \u001b[1m0s\u001b[0m 0us/step\n",
            "Downloading data from https://storage.googleapis.com/tensorflow/tf-keras-datasets/t10k-images-idx3-ubyte.gz\n",
            "\u001b[1m4422102/4422102\u001b[0m \u001b[32m━━━━━━━━━━━━━━━━━━━━\u001b[0m\u001b[37m\u001b[0m \u001b[1m0s\u001b[0m 0us/step\n"
          ]
        },
        {
          "output_type": "stream",
          "name": "stderr",
          "text": [
            "/usr/local/lib/python3.10/dist-packages/keras/src/layers/core/input_layer.py:26: UserWarning: Argument `input_shape` is deprecated. Use `shape` instead.\n",
            "  warnings.warn(\n"
          ]
        },
        {
          "output_type": "stream",
          "name": "stdout",
          "text": [
            "Epoch 1/10\n",
            "\u001b[1m1875/1875\u001b[0m \u001b[32m━━━━━━━━━━━━━━━━━━━━\u001b[0m\u001b[37m\u001b[0m \u001b[1m9s\u001b[0m 3ms/step - accuracy: 0.7667 - loss: 0.6709 - val_accuracy: 0.8460 - val_loss: 0.4210\n",
            "Epoch 2/10\n",
            "\u001b[1m1875/1875\u001b[0m \u001b[32m━━━━━━━━━━━━━━━━━━━━\u001b[0m\u001b[37m\u001b[0m \u001b[1m4s\u001b[0m 2ms/step - accuracy: 0.8599 - loss: 0.3813 - val_accuracy: 0.8590 - val_loss: 0.3870\n",
            "Epoch 3/10\n",
            "\u001b[1m1875/1875\u001b[0m \u001b[32m━━━━━━━━━━━━━━━━━━━━\u001b[0m\u001b[37m\u001b[0m \u001b[1m4s\u001b[0m 2ms/step - accuracy: 0.8756 - loss: 0.3366 - val_accuracy: 0.8580 - val_loss: 0.3881\n",
            "Epoch 4/10\n",
            "\u001b[1m1875/1875\u001b[0m \u001b[32m━━━━━━━━━━━━━━━━━━━━\u001b[0m\u001b[37m\u001b[0m \u001b[1m5s\u001b[0m 2ms/step - accuracy: 0.8844 - loss: 0.3148 - val_accuracy: 0.8652 - val_loss: 0.3713\n",
            "Epoch 5/10\n",
            "\u001b[1m1875/1875\u001b[0m \u001b[32m━━━━━━━━━━━━━━━━━━━━\u001b[0m\u001b[37m\u001b[0m \u001b[1m5s\u001b[0m 2ms/step - accuracy: 0.8904 - loss: 0.2922 - val_accuracy: 0.8747 - val_loss: 0.3499\n",
            "Epoch 6/10\n",
            "\u001b[1m1875/1875\u001b[0m \u001b[32m━━━━━━━━━━━━━━━━━━━━\u001b[0m\u001b[37m\u001b[0m \u001b[1m6s\u001b[0m 3ms/step - accuracy: 0.8935 - loss: 0.2832 - val_accuracy: 0.8739 - val_loss: 0.3507\n",
            "Epoch 7/10\n",
            "\u001b[1m1875/1875\u001b[0m \u001b[32m━━━━━━━━━━━━━━━━━━━━\u001b[0m\u001b[37m\u001b[0m \u001b[1m4s\u001b[0m 2ms/step - accuracy: 0.8996 - loss: 0.2663 - val_accuracy: 0.8825 - val_loss: 0.3307\n",
            "Epoch 8/10\n",
            "\u001b[1m1875/1875\u001b[0m \u001b[32m━━━━━━━━━━━━━━━━━━━━\u001b[0m\u001b[37m\u001b[0m \u001b[1m5s\u001b[0m 2ms/step - accuracy: 0.9048 - loss: 0.2536 - val_accuracy: 0.8788 - val_loss: 0.3405\n",
            "Epoch 9/10\n",
            "\u001b[1m1875/1875\u001b[0m \u001b[32m━━━━━━━━━━━━━━━━━━━━\u001b[0m\u001b[37m\u001b[0m \u001b[1m4s\u001b[0m 2ms/step - accuracy: 0.9041 - loss: 0.2495 - val_accuracy: 0.8794 - val_loss: 0.3346\n",
            "Epoch 10/10\n",
            "\u001b[1m1875/1875\u001b[0m \u001b[32m━━━━━━━━━━━━━━━━━━━━\u001b[0m\u001b[37m\u001b[0m \u001b[1m4s\u001b[0m 2ms/step - accuracy: 0.9134 - loss: 0.2316 - val_accuracy: 0.8844 - val_loss: 0.3403\n",
            "Obtained Training Accuracy: 91.36%\n",
            "Obtained Testing Accuracy: 88.44%\n"
          ]
        }
      ]
    }
  ]
}