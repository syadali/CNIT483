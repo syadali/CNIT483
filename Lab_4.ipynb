{
  "nbformat": 4,
  "nbformat_minor": 0,
  "metadata": {
    "colab": {
      "provenance": [],
      "include_colab_link": true
    },
    "kernelspec": {
      "name": "python3",
      "display_name": "Python 3"
    },
    "accelerator": "GPU"
  },
  "cells": [
    {
      "cell_type": "markdown",
      "metadata": {
        "id": "view-in-github",
        "colab_type": "text"
      },
      "source": [
        "<a href=\"https://colab.research.google.com/github/syadali/CNIT483/blob/main/Lab_4.ipynb\" target=\"_parent\"><img src=\"https://colab.research.google.com/assets/colab-badge.svg\" alt=\"Open In Colab\"/></a>"
      ]
    },
    {
      "cell_type": "markdown",
      "metadata": {
        "id": "5kJy2ESvii8T"
      },
      "source": [
        "# **Lab 4: Convolutional Neural Network**\n",
        "\n",
        "The lab report will be due by **November 1st, 2024**."
      ]
    },
    {
      "cell_type": "markdown",
      "source": [
        "##**Problem 1**\n",
        "In this problem, we will focus on completing an hand-written digit recognition task for MNIST dataset. In this problem, you are asked to design a convolutional neural network (CNN) with three convolutional layers and three max-pooling layers.\n",
        "\n",
        "Requirments:\n",
        "*   You need to include the following three components in your lab report: (1) the codes, (2) the obtained training errors, and (3) the obtained testing errors.\n",
        "\n",
        "(Note: the CNN model is considered to have a reasonable performance if it can achieve a training/testing accuracy above $95\\%$.)"
      ],
      "metadata": {
        "id": "5A5MBIRTq-dA"
      }
    },
    {
      "cell_type": "code",
      "source": [
        "# import python libs\n",
        "import tensorflow as tf\n",
        "from tensorflow.keras import datasets, layers, models, optimizers\n",
        "from tensorflow.keras.utils import to_categorical\n",
        "import pandas as pd\n",
        "import numpy as np\n",
        "\n",
        "# Load and Pre-process data\n",
        "(x_train, y_train), (x_test, y_test) = datasets.mnist.load_data()\n",
        "x_train, x_test = x_train / 255.0, x_test / 255.0  # Normalize\n",
        "\n",
        "# Flatten images into vectors\n",
        "x_train = x_train.reshape(-1, 28, 28, 1)\n",
        "x_test = x_test.reshape(-1, 28, 28, 1)\n",
        "\n",
        "# Define the structure of the (CNN)\n",
        "model = models.Sequential()\n",
        "\n",
        "# Input layer and first convolutional layer\n",
        "model.add(layers.Conv2D(32, (3, 3), activation='relu', input_shape=(28, 28, 1)))  # First Conv Layer\n",
        "model.add(layers.MaxPooling2D((2, 2)))  # First Max-Pooling Layer\n",
        "\n",
        "# Second convolutional layer\n",
        "model.add(layers.Conv2D(64, (3, 3), activation='relu'))  # Second Conv Layer\n",
        "model.add(layers.MaxPooling2D((2, 2)))  # Second Max-Pooling Layer\n",
        "\n",
        "# Third convolutional layer\n",
        "model.add(layers.Conv2D(64, (3, 3), activation='relu'))  # Third Conv Layer\n",
        "model.add(layers.MaxPooling2D((2, 2)))  # Third Max-Pooling Layer\n",
        "\n",
        "# Flatten and dense layers (similar to the FCNN format given)\n",
        "model.add(layers.Flatten())  # Flatten the 3D output to 1D\n",
        "model.add(layers.Dense(256, activation='relu'))  # First Dense Layer\n",
        "model.add(layers.Dense(128, activation='relu'))  # Second Dense Layer\n",
        "model.add(layers.Dense(64, activation='relu'))  # Third Dense Layer\n",
        "\n",
        "# Output layer for 10 classes with softmax activation\n",
        "model.add(layers.Dense(10, activation='softmax'))\n",
        "\n",
        "# Compile the model with sparse categorical cross-entropy for multiclass classification\n",
        "model.compile(optimizer='adam', loss='sparse_categorical_crossentropy', metrics=['accuracy'])\n",
        "\n",
        "# Train the model\n",
        "history = model.fit(x_train, y_train, epochs=10, batch_size=32, validation_data=(x_test, y_test), verbose=1)\n",
        "\n",
        "# Evaluate the model on training and testing sets\n",
        "train_loss, train_accuracy = model.evaluate(x_train, y_train, verbose=0)\n",
        "test_loss, test_accuracy = model.evaluate(x_test, y_test, verbose=0)\n",
        "\n",
        "# Print the results\n",
        "print(f'Obtained Training Accuracy: {train_accuracy * 100:.2f}%')\n",
        "print(f'Obtained Testing Accuracy: {test_accuracy * 100:.2f}%')\n",
        "print(f'Obtained Training Error: {train_loss}')\n",
        "print(f'Obtained Testing Error: {test_loss}')"
      ],
      "metadata": {
        "colab": {
          "base_uri": "https://localhost:8080/"
        },
        "id": "9-cQIYUCYDdZ",
        "outputId": "40490f01-82f1-40bc-cae8-7dbb6cd2c945"
      },
      "execution_count": null,
      "outputs": [
        {
          "output_type": "stream",
          "name": "stderr",
          "text": [
            "/usr/local/lib/python3.10/dist-packages/keras/src/layers/convolutional/base_conv.py:107: UserWarning: Do not pass an `input_shape`/`input_dim` argument to a layer. When using Sequential models, prefer using an `Input(shape)` object as the first layer in the model instead.\n",
            "  super().__init__(activity_regularizer=activity_regularizer, **kwargs)\n"
          ]
        },
        {
          "output_type": "stream",
          "name": "stdout",
          "text": [
            "Epoch 1/10\n",
            "\u001b[1m1875/1875\u001b[0m \u001b[32m━━━━━━━━━━━━━━━━━━━━\u001b[0m\u001b[37m\u001b[0m \u001b[1m13s\u001b[0m 4ms/step - accuracy: 0.8483 - loss: 0.4623 - val_accuracy: 0.9767 - val_loss: 0.0790\n",
            "Epoch 2/10\n",
            "\u001b[1m1875/1875\u001b[0m \u001b[32m━━━━━━━━━━━━━━━━━━━━\u001b[0m\u001b[37m\u001b[0m \u001b[1m15s\u001b[0m 3ms/step - accuracy: 0.9768 - loss: 0.0772 - val_accuracy: 0.9822 - val_loss: 0.0612\n",
            "Epoch 3/10\n",
            "\u001b[1m1875/1875\u001b[0m \u001b[32m━━━━━━━━━━━━━━━━━━━━\u001b[0m\u001b[37m\u001b[0m \u001b[1m6s\u001b[0m 3ms/step - accuracy: 0.9833 - loss: 0.0552 - val_accuracy: 0.9848 - val_loss: 0.0597\n",
            "Epoch 4/10\n",
            "\u001b[1m1875/1875\u001b[0m \u001b[32m━━━━━━━━━━━━━━━━━━━━\u001b[0m\u001b[37m\u001b[0m \u001b[1m6s\u001b[0m 3ms/step - accuracy: 0.9871 - loss: 0.0436 - val_accuracy: 0.9843 - val_loss: 0.0553\n",
            "Epoch 5/10\n",
            "\u001b[1m1875/1875\u001b[0m \u001b[32m━━━━━━━━━━━━━━━━━━━━\u001b[0m\u001b[37m\u001b[0m \u001b[1m11s\u001b[0m 3ms/step - accuracy: 0.9894 - loss: 0.0366 - val_accuracy: 0.9868 - val_loss: 0.0482\n",
            "Epoch 6/10\n",
            "\u001b[1m1875/1875\u001b[0m \u001b[32m━━━━━━━━━━━━━━━━━━━━\u001b[0m\u001b[37m\u001b[0m \u001b[1m5s\u001b[0m 3ms/step - accuracy: 0.9912 - loss: 0.0290 - val_accuracy: 0.9855 - val_loss: 0.0577\n",
            "Epoch 7/10\n",
            "\u001b[1m1875/1875\u001b[0m \u001b[32m━━━━━━━━━━━━━━━━━━━━\u001b[0m\u001b[37m\u001b[0m \u001b[1m6s\u001b[0m 3ms/step - accuracy: 0.9920 - loss: 0.0255 - val_accuracy: 0.9862 - val_loss: 0.0499\n",
            "Epoch 8/10\n",
            "\u001b[1m1875/1875\u001b[0m \u001b[32m━━━━━━━━━━━━━━━━━━━━\u001b[0m\u001b[37m\u001b[0m \u001b[1m5s\u001b[0m 3ms/step - accuracy: 0.9931 - loss: 0.0227 - val_accuracy: 0.9887 - val_loss: 0.0435\n",
            "Epoch 9/10\n",
            "\u001b[1m1875/1875\u001b[0m \u001b[32m━━━━━━━━━━━━━━━━━━━━\u001b[0m\u001b[37m\u001b[0m \u001b[1m11s\u001b[0m 3ms/step - accuracy: 0.9939 - loss: 0.0196 - val_accuracy: 0.9830 - val_loss: 0.0667\n",
            "Epoch 10/10\n",
            "\u001b[1m1875/1875\u001b[0m \u001b[32m━━━━━━━━━━━━━━━━━━━━\u001b[0m\u001b[37m\u001b[0m \u001b[1m11s\u001b[0m 3ms/step - accuracy: 0.9947 - loss: 0.0184 - val_accuracy: 0.9867 - val_loss: 0.0641\n",
            "Obtained Training Accuracy: 99.42%\n",
            "Obtained Testing Accuracy: 98.67%\n",
            "Obtained Training Error: 0.021971803158521652\n",
            "Obtained Testing Error: 0.06406579166650772\n"
          ]
        }
      ]
    },
    {
      "cell_type": "markdown",
      "source": [
        "##**Problem 2**\n",
        "In this problem, we will focus on completing an image identification task for Fashion MNIST dataset. In this problem, you are asked to design a CNN for this task. You will have the full freedom to design the structures of your CNN.\n",
        "\n",
        "Requirments:\n",
        "*   You need to include the following four components in your lab report: (1) the codes for CNN, (2) the obtained training errors by using CNN, and (3) the obtained testing errors by using CNN.\n",
        "\n",
        "(Note: the CNN model is considered to have a reasonable performance if it can achieve a training/testing accuracy above $90\\%$.)"
      ],
      "metadata": {
        "id": "NhgxwsNZe2be"
      }
    },
    {
      "cell_type": "code",
      "source": [
        "# import python libs\n",
        "import tensorflow as tf\n",
        "from tensorflow.keras import datasets, layers, models, optimizers\n",
        "from tensorflow.keras.utils import to_categorical\n",
        "import pandas as pd\n",
        "import numpy as np\n",
        "\n",
        "# Load and preprocess the Fashion MNIST dataset\n",
        "(x_train, y_train), (x_test, y_test) = datasets.fashion_mnist.load_data()\n",
        "x_train, x_test = x_train / 255.0, x_test / 255.0  # Normalize\n",
        "\n",
        "# Reshape data to add the channel dimension for grayscale images\n",
        "x_train = x_train.reshape(-1, 28, 28, 1)\n",
        "x_test = x_test.reshape(-1, 28, 28, 1)\n",
        "\n",
        "# Define the CNN model structure\n",
        "model = models.Sequential()\n",
        "model.add(layers.InputLayer(input_shape=(28, 28, 1)))  # Input layer\n",
        "\n",
        "# First Convolutional Layer\n",
        "model.add(layers.Conv2D(32, (3, 3), activation='relu'))\n",
        "model.add(layers.MaxPooling2D((2, 2)))\n",
        "\n",
        "# Second Convolutional Layer\n",
        "model.add(layers.Conv2D(64, (3, 3), activation='relu'))\n",
        "model.add(layers.MaxPooling2D((2, 2)))\n",
        "\n",
        "# Third Convolutional Layer\n",
        "model.add(layers.Conv2D(128, (3, 3), activation='relu'))\n",
        "model.add(layers.MaxPooling2D((2, 2)))\n",
        "\n",
        "# Flatten the output from the convolutional layers\n",
        "model.add(layers.Flatten())\n",
        "\n",
        "# Add Fully Connected Layers as specified\n",
        "model.add(layers.Dense(256, activation='relu'))  # First hidden layer with 256 nodes\n",
        "model.add(layers.Dense(128, activation='relu'))  # Second hidden layer with 128 nodes\n",
        "model.add(layers.Dense(64, activation='relu'))   # Third hidden layer with 64 nodes\n",
        "\n",
        "# Output layer for 10 classes with softmax activation\n",
        "model.add(layers.Dense(10, activation='softmax'))\n",
        "\n",
        "# Compile the model with sparse categorical cross-entropy for multiclass classification\n",
        "model.compile(optimizer='adam', loss='sparse_categorical_crossentropy', metrics=['accuracy'])\n",
        "\n",
        "# Train the model\n",
        "history = model.fit(x_train, y_train, epochs=10, batch_size=32, validation_data=(x_test, y_test), verbose=1)\n",
        "\n",
        "# Evaluate the model on training and testing sets\n",
        "train_loss, train_accuracy = model.evaluate(x_train, y_train, verbose=0)\n",
        "test_loss, test_accuracy = model.evaluate(x_test, y_test, verbose=0)\n",
        "\n",
        "# Print the results\n",
        "print(f'Obtained Training Accuracy: {train_accuracy * 100:.2f}%')\n",
        "print(f'Obtained Testing Accuracy: {test_accuracy * 100:.2f}%')\n",
        "print(f'Obtained Training Error: {train_loss}')\n",
        "print(f'Obtained Testing Error: {test_loss}')"
      ],
      "metadata": {
        "id": "NKH1B94cieTE",
        "colab": {
          "base_uri": "https://localhost:8080/"
        },
        "outputId": "48f784d3-5fa8-4d2e-a648-13ec51b5660a"
      },
      "execution_count": null,
      "outputs": [
        {
          "output_type": "stream",
          "name": "stdout",
          "text": [
            "Epoch 1/9\n",
            "\u001b[1m1875/1875\u001b[0m \u001b[32m━━━━━━━━━━━━━━━━━━━━\u001b[0m\u001b[37m\u001b[0m \u001b[1m9s\u001b[0m 3ms/step - accuracy: 0.7031 - loss: 0.8005 - val_accuracy: 0.8233 - val_loss: 0.4756\n",
            "Epoch 2/9\n",
            "\u001b[1m1875/1875\u001b[0m \u001b[32m━━━━━━━━━━━━━━━━━━━━\u001b[0m\u001b[37m\u001b[0m \u001b[1m6s\u001b[0m 3ms/step - accuracy: 0.8530 - loss: 0.3993 - val_accuracy: 0.8463 - val_loss: 0.4189\n",
            "Epoch 3/9\n",
            "\u001b[1m1875/1875\u001b[0m \u001b[32m━━━━━━━━━━━━━━━━━━━━\u001b[0m\u001b[37m\u001b[0m \u001b[1m5s\u001b[0m 3ms/step - accuracy: 0.8756 - loss: 0.3362 - val_accuracy: 0.8714 - val_loss: 0.3528\n",
            "Epoch 4/9\n",
            "\u001b[1m1875/1875\u001b[0m \u001b[32m━━━━━━━━━━━━━━━━━━━━\u001b[0m\u001b[37m\u001b[0m \u001b[1m10s\u001b[0m 3ms/step - accuracy: 0.8908 - loss: 0.2946 - val_accuracy: 0.8749 - val_loss: 0.3445\n",
            "Epoch 5/9\n",
            "\u001b[1m1875/1875\u001b[0m \u001b[32m━━━━━━━━━━━━━━━━━━━━\u001b[0m\u001b[37m\u001b[0m \u001b[1m10s\u001b[0m 3ms/step - accuracy: 0.9001 - loss: 0.2641 - val_accuracy: 0.8646 - val_loss: 0.3568\n",
            "Epoch 6/9\n",
            "\u001b[1m1875/1875\u001b[0m \u001b[32m━━━━━━━━━━━━━━━━━━━━\u001b[0m\u001b[37m\u001b[0m \u001b[1m10s\u001b[0m 3ms/step - accuracy: 0.9103 - loss: 0.2406 - val_accuracy: 0.8783 - val_loss: 0.3391\n",
            "Epoch 7/9\n",
            "\u001b[1m1875/1875\u001b[0m \u001b[32m━━━━━━━━━━━━━━━━━━━━\u001b[0m\u001b[37m\u001b[0m \u001b[1m5s\u001b[0m 3ms/step - accuracy: 0.9140 - loss: 0.2257 - val_accuracy: 0.8887 - val_loss: 0.3233\n",
            "Epoch 8/9\n",
            "\u001b[1m1875/1875\u001b[0m \u001b[32m━━━━━━━━━━━━━━━━━━━━\u001b[0m\u001b[37m\u001b[0m \u001b[1m6s\u001b[0m 3ms/step - accuracy: 0.9197 - loss: 0.2107 - val_accuracy: 0.8887 - val_loss: 0.3220\n",
            "Epoch 9/9\n",
            "\u001b[1m1875/1875\u001b[0m \u001b[32m━━━━━━━━━━━━━━━━━━━━\u001b[0m\u001b[37m\u001b[0m \u001b[1m5s\u001b[0m 3ms/step - accuracy: 0.9296 - loss: 0.1910 - val_accuracy: 0.8915 - val_loss: 0.3143\n",
            "Obtained Training Accuracy: 93.78%\n",
            "Obtained Testing Accuracy: 89.15%\n",
            "Obtained Training Error: 0.1657811552286148\n",
            "Obtained Testing Error: 0.3143312633037567\n"
          ]
        }
      ]
    },
    {
      "cell_type": "markdown",
      "source": [
        "##**Problem 3**\n",
        "In this problem, we will focus on completing a relatively more difficult image identification task for CIFAR-10 dataset. In this problem, you are asked to design a CNN, respectively, for this task. You will have the full freedom to design the structure of your CNN.\n",
        "\n",
        "Requirments:\n",
        "*   You need to include the following four components in your lab report: (1) the codes for CNN, (2) the obtained training errors by using CNN, and (3) the obtained testing error by using CNN.\n",
        "\n",
        "(Note: the CNN model is considered to have a reasonable performance if it can achieve a testing accuracy above $65\\%$.)"
      ],
      "metadata": {
        "id": "Gbg4e_BqlSbd"
      }
    },
    {
      "cell_type": "code",
      "source": [
        "# import python libs\n",
        "import tensorflow as tf\n",
        "from tensorflow.keras import datasets, layers, models, optimizers\n",
        "from tensorflow.keras.utils import to_categorical\n",
        "import pandas as pd\n",
        "import numpy as np\n",
        "\n",
        "# Load and preprocess the Fashion MNIST dataset\n",
        "(x_train, y_train), (x_test, y_test) = datasets.cifar10.load_data()\n",
        "x_train, x_test = x_train / 255.0, x_test / 255.0  # Normalize\n",
        "\n",
        "# Define the CNN model structure\n",
        "model = models.Sequential()\n",
        "model.add(layers.InputLayer(input_shape=(32, 32, 3)))  # Input layer for CIFAR-10 images\n",
        "\n",
        "# First Convolutional Layer\n",
        "model.add(layers.Conv2D(32, (3, 3), activation='relu', padding='same'))  # 32 filters\n",
        "model.add(layers.MaxPooling2D((2, 2)))  # Max pooling\n",
        "\n",
        "# Second Convolutional Layer\n",
        "model.add(layers.Conv2D(64, (3, 3), activation='relu', padding='same'))  # 64 filters\n",
        "model.add(layers.MaxPooling2D((2, 2)))  # Max pooling\n",
        "\n",
        "# Third Convolutional Layer\n",
        "model.add(layers.Conv2D(128, (3, 3), activation='relu', padding='same'))  # 128 filters\n",
        "model.add(layers.MaxPooling2D((2, 2)))  # Max pooling\n",
        "\n",
        "# Fourth Convolutional Layer\n",
        "model.add(layers.Conv2D(256, (3, 3), activation='relu', padding='same'))  # 256 filters\n",
        "model.add(layers.MaxPooling2D((2, 2)))  # Max pooling\n",
        "\n",
        "# Flatten the output from the convolutional layers\n",
        "model.add(layers.Flatten())\n",
        "\n",
        "# Add Fully Connected Layers\n",
        "model.add(layers.Dense(512, activation='relu'))  # Fully connected layer with 512 nodes\n",
        "model.add(layers.Dense(10, activation='softmax'))  # Output layer for 10 classes\n",
        "\n",
        "# Compile the model with sparse categorical cross-entropy for multiclass classification\n",
        "model.compile(optimizer='adam', loss='sparse_categorical_crossentropy', metrics=['accuracy'])\n",
        "\n",
        "# Train the model\n",
        "history = model.fit(x_train, y_train, epochs=10, batch_size=64, validation_data=(x_test, y_test), verbose=1)\n",
        "\n",
        "# Evaluate the model on training and testing sets\n",
        "train_loss, train_accuracy = model.evaluate(x_train, y_train, verbose=0)\n",
        "test_loss, test_accuracy = model.evaluate(x_test, y_test, verbose=0)\n",
        "\n",
        "# Print the results\n",
        "print(f'Obtained Training Accuracy: {train_accuracy * 100:.2f}%')\n",
        "print(f'Obtained Testing Accuracy: {test_accuracy * 100:.2f}%')\n",
        "print(f'Obtained Training Error: {train_loss}')\n",
        "print(f'Obtained Testing Error: {test_loss}')\n"
      ],
      "metadata": {
        "id": "_SSmmlWrNKG1",
        "colab": {
          "base_uri": "https://localhost:8080/"
        },
        "outputId": "e58ebad4-4d9c-4ed0-d5f2-d455a19f758e"
      },
      "execution_count": null,
      "outputs": [
        {
          "output_type": "stream",
          "name": "stdout",
          "text": [
            "Downloading data from https://www.cs.toronto.edu/~kriz/cifar-10-python.tar.gz\n",
            "\u001b[1m170498071/170498071\u001b[0m \u001b[32m━━━━━━━━━━━━━━━━━━━━\u001b[0m\u001b[37m\u001b[0m \u001b[1m4s\u001b[0m 0us/step\n"
          ]
        },
        {
          "output_type": "stream",
          "name": "stderr",
          "text": [
            "/usr/local/lib/python3.10/dist-packages/keras/src/layers/core/input_layer.py:26: UserWarning: Argument `input_shape` is deprecated. Use `shape` instead.\n",
            "  warnings.warn(\n"
          ]
        },
        {
          "output_type": "stream",
          "name": "stdout",
          "text": [
            "Epoch 1/10\n",
            "\u001b[1m782/782\u001b[0m \u001b[32m━━━━━━━━━━━━━━━━━━━━\u001b[0m\u001b[37m\u001b[0m \u001b[1m25s\u001b[0m 23ms/step - accuracy: 0.3716 - loss: 1.6735 - val_accuracy: 0.6138 - val_loss: 1.0763\n",
            "Epoch 2/10\n",
            "\u001b[1m782/782\u001b[0m \u001b[32m━━━━━━━━━━━━━━━━━━━━\u001b[0m\u001b[37m\u001b[0m \u001b[1m5s\u001b[0m 6ms/step - accuracy: 0.6440 - loss: 0.9947 - val_accuracy: 0.6662 - val_loss: 0.9576\n",
            "Epoch 3/10\n",
            "\u001b[1m782/782\u001b[0m \u001b[32m━━━━━━━━━━━━━━━━━━━━\u001b[0m\u001b[37m\u001b[0m \u001b[1m5s\u001b[0m 7ms/step - accuracy: 0.7308 - loss: 0.7670 - val_accuracy: 0.7285 - val_loss: 0.7771\n",
            "Epoch 4/10\n",
            "\u001b[1m782/782\u001b[0m \u001b[32m━━━━━━━━━━━━━━━━━━━━\u001b[0m\u001b[37m\u001b[0m \u001b[1m4s\u001b[0m 5ms/step - accuracy: 0.7817 - loss: 0.6148 - val_accuracy: 0.7374 - val_loss: 0.7711\n",
            "Epoch 5/10\n",
            "\u001b[1m782/782\u001b[0m \u001b[32m━━━━━━━━━━━━━━━━━━━━\u001b[0m\u001b[37m\u001b[0m \u001b[1m5s\u001b[0m 5ms/step - accuracy: 0.8313 - loss: 0.4867 - val_accuracy: 0.7441 - val_loss: 0.7672\n",
            "Epoch 6/10\n",
            "\u001b[1m782/782\u001b[0m \u001b[32m━━━━━━━━━━━━━━━━━━━━\u001b[0m\u001b[37m\u001b[0m \u001b[1m4s\u001b[0m 6ms/step - accuracy: 0.8654 - loss: 0.3775 - val_accuracy: 0.7574 - val_loss: 0.7698\n",
            "Epoch 7/10\n",
            "\u001b[1m782/782\u001b[0m \u001b[32m━━━━━━━━━━━━━━━━━━━━\u001b[0m\u001b[37m\u001b[0m \u001b[1m4s\u001b[0m 5ms/step - accuracy: 0.8949 - loss: 0.2968 - val_accuracy: 0.7573 - val_loss: 0.8075\n",
            "Epoch 8/10\n",
            "\u001b[1m782/782\u001b[0m \u001b[32m━━━━━━━━━━━━━━━━━━━━\u001b[0m\u001b[37m\u001b[0m \u001b[1m6s\u001b[0m 5ms/step - accuracy: 0.9151 - loss: 0.2397 - val_accuracy: 0.7389 - val_loss: 0.9729\n",
            "Epoch 9/10\n",
            "\u001b[1m782/782\u001b[0m \u001b[32m━━━━━━━━━━━━━━━━━━━━\u001b[0m\u001b[37m\u001b[0m \u001b[1m4s\u001b[0m 6ms/step - accuracy: 0.9374 - loss: 0.1759 - val_accuracy: 0.7564 - val_loss: 0.9509\n",
            "Epoch 10/10\n",
            "\u001b[1m782/782\u001b[0m \u001b[32m━━━━━━━━━━━━━━━━━━━━\u001b[0m\u001b[37m\u001b[0m \u001b[1m4s\u001b[0m 5ms/step - accuracy: 0.9507 - loss: 0.1390 - val_accuracy: 0.7381 - val_loss: 1.1493\n",
            "Obtained Training Accuracy: 95.13%\n",
            "Obtained Testing Accuracy: 73.81%\n",
            "Obtained Training Error: 0.13895748555660248\n",
            "Obtained Testing Error: 1.1493217945098877\n"
          ]
        }
      ]
    }
  ]
}